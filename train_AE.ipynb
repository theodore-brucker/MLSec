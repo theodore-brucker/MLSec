{
 "cells": [
  {
   "cell_type": "code",
   "execution_count": 2,
   "metadata": {},
   "outputs": [],
   "source": [
    "# Process data if necessary\n",
    "from processing.CSE_CIC_processing import process_CIC_CAE\n",
    "\n",
    "process_CIC_CAE()\n"
   ]
  },
  {
   "cell_type": "code",
   "execution_count": 3,
   "metadata": {},
   "outputs": [],
   "source": [
    "import torch \n",
    "\n",
    "train_loader = torch.load('C:/Users/theob/Code/COS-475-Project/Dataset/CSE-CIC-IDS2018/')\n",
    "test_loader = torch.load('C:/Users/theob/Code/COS-475-Project/Dataset/CSE-CIC-IDS2018/')\n",
    "\n"
   ]
  },
  {
   "cell_type": "code",
   "execution_count": 5,
   "metadata": {},
   "outputs": [
    {
     "name": "stderr",
     "output_type": "stream",
     "text": [
      "c:\\Users\\theob\\AppData\\Local\\Programs\\Python\\Python311\\Lib\\site-packages\\tqdm\\auto.py:21: TqdmWarning: IProgress not found. Please update jupyter and ipywidgets. See https://ipywidgets.readthedocs.io/en/stable/user_install.html\n",
      "  from .autonotebook import tqdm as notebook_tqdm\n"
     ]
    },
    {
     "name": "stdout",
     "output_type": "stream",
     "text": [
      "Epoch 1/5, Loss: 0.0006\n",
      "Epoch 2/5, Loss: 0.0003\n",
      "Epoch 3/5, Loss: 0.0003\n",
      "Epoch 4/5, Loss: 0.0003\n",
      "Epoch 5/5, Loss: 0.0003\n",
      "Training complete: saved to Checkpoints/CAE.pth\n"
     ]
    }
   ],
   "source": [
    "from trainer import train_CAE_CSE\n",
    "# Train convolutional autoencoder on CSE-CIC datast\n",
    "\n",
    "train_CAE_CSE()"
   ]
  },
  {
   "cell_type": "code",
   "execution_count": null,
   "metadata": {},
   "outputs": [],
   "source": [
    "from eval.evaluate import evaluate_model_and_plot\n",
    "\n",
    "evaluate_model_and_plot()"
   ]
  }
 ],
 "metadata": {
  "kernelspec": {
   "display_name": "Python 3",
   "language": "python",
   "name": "python3"
  },
  "language_info": {
   "codemirror_mode": {
    "name": "ipython",
    "version": 3
   },
   "file_extension": ".py",
   "mimetype": "text/x-python",
   "name": "python",
   "nbconvert_exporter": "python",
   "pygments_lexer": "ipython3",
   "version": "3.11.1"
  }
 },
 "nbformat": 4,
 "nbformat_minor": 2
}
