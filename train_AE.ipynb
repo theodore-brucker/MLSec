{
 "cells": [
  {
   "cell_type": "code",
   "execution_count": 1,
   "metadata": {},
   "outputs": [
    {
     "name": "stdout",
     "output_type": "stream",
     "text": [
      "Total number of unique labels: 4\n",
      "Occurrences of each label:\n",
      "Benign: 381\n",
      "DoS attacks-Hulk: 8300\n",
      "DoS attacks-SlowHTTPTest: 91434\n",
      "FTP-BruteForce: 99885\n",
      "Initial number of columns: 76, final number of columns: 65\n",
      "Initial number of rows: 200000, final number of rows: 195668\n"
     ]
    },
    {
     "name": "stderr",
     "output_type": "stream",
     "text": [
      "c:\\Users\\Baldw\\Desktop\\ml-final\\MLSec\\processing\\CSE_CIC_processing.py:150: FutureWarning: DataFrame.applymap has been deprecated. Use DataFrame.map instead.\n",
      "  if not df.applymap(np.isreal).all().all():\n"
     ]
    }
   ],
   "source": [
    "# Process data if necessary\n",
    "from processing.CSE_CIC_processing import process_CIC_CAE\n",
    "\n",
    "process_CIC_CAE()\n"
   ]
  },
  {
   "cell_type": "code",
   "execution_count": null,
   "metadata": {},
   "outputs": [],
   "source": [
    "import torch \n",
    "from conf import * \n",
    "\n",
    "datasets = ['CSE-CIC/flows',]\n",
    "dataset = datasets[0]\n",
    "\n",
    "train_loader = torch.load(os.path.join(data_dir,dataset,'train.pth'))\n",
    "test_loader = torch.load(os.path.join(data_dir,dataset,'test.pth'))\n",
    "\n"
   ]
  },
  {
   "cell_type": "code",
   "execution_count": null,
   "metadata": {},
   "outputs": [
    {
     "ename": "NameError",
     "evalue": "name 'CSE_CIC_path' is not defined",
     "output_type": "error",
     "traceback": [
      "\u001b[1;31m---------------------------------------------------------------------------\u001b[0m",
      "\u001b[1;31mNameError\u001b[0m                                 Traceback (most recent call last)",
      "Cell \u001b[1;32mIn[10], line 1\u001b[0m\n\u001b[1;32m----> 1\u001b[0m \u001b[38;5;28;01mfrom\u001b[39;00m \u001b[38;5;21;01mtrainer\u001b[39;00m \u001b[38;5;28;01mimport\u001b[39;00m train_CAE_CSE\n\u001b[0;32m      2\u001b[0m \u001b[38;5;66;03m# Train convolutional autoencoder on CSE-CIC datast\u001b[39;00m\n\u001b[0;32m      4\u001b[0m train_CAE_CSE()\n",
      "File \u001b[1;32mc:\\Users\\Baldw\\Desktop\\ml-final\\MLSec\\trainer.py:15\u001b[0m\n\u001b[0;32m     11\u001b[0m \u001b[38;5;28;01mimport\u001b[39;00m \u001b[38;5;21;01msys\u001b[39;00m \n\u001b[0;32m     13\u001b[0m base_dir \u001b[38;5;241m=\u001b[39m os\u001b[38;5;241m.\u001b[39mpath\u001b[38;5;241m.\u001b[39mdirname(os\u001b[38;5;241m.\u001b[39mpath\u001b[38;5;241m.\u001b[39mabspath(\u001b[38;5;18m__file__\u001b[39m))\n\u001b[1;32m---> 15\u001b[0m flows_train_path \u001b[38;5;241m=\u001b[39m os\u001b[38;5;241m.\u001b[39mpath\u001b[38;5;241m.\u001b[39mjoin(\u001b[43mCSE_CIC_path\u001b[49m, \u001b[38;5;124m'\u001b[39m\u001b[38;5;124mtrain.pth\u001b[39m\u001b[38;5;124m'\u001b[39m)\n\u001b[0;32m     16\u001b[0m flows_test_path \u001b[38;5;241m=\u001b[39m os\u001b[38;5;241m.\u001b[39mpath\u001b[38;5;241m.\u001b[39mjoin(CSE_CIC_path, \u001b[38;5;124m'\u001b[39m\u001b[38;5;124mtest.pth\u001b[39m\u001b[38;5;124m'\u001b[39m)\n\u001b[0;32m     17\u001b[0m train_loader \u001b[38;5;241m=\u001b[39m torch\u001b[38;5;241m.\u001b[39mload(flows_train_path)\n",
      "\u001b[1;31mNameError\u001b[0m: name 'CSE_CIC_path' is not defined"
     ]
    }
   ],
   "source": [
    "from trainer import train_CAE_CSE\n",
    "# Train convolutional autoencoder on CSE-CIC datast\n",
    "\n",
    "train_CAE_CSE()\n",
    "\n"
   ]
  },
  {
   "cell_type": "code",
   "execution_count": null,
   "metadata": {},
   "outputs": [],
   "source": [
    "from eval.evaluate import evaluate_model_and_plot\n",
    "\n",
    "evaluate_model_and_plot()"
   ]
  },
  {
   "cell_type": "code",
   "execution_count": null,
   "metadata": {},
   "outputs": [],
   "source": []
  }
 ],
 "metadata": {
  "kernelspec": {
   "display_name": "Python 3",
   "language": "python",
   "name": "python3"
  },
  "language_info": {
   "codemirror_mode": {
    "name": "ipython",
    "version": 3
   },
   "file_extension": ".py",
   "mimetype": "text/x-python",
   "name": "python",
   "nbconvert_exporter": "python",
   "pygments_lexer": "ipython3",
   "version": "3.10.8"
  }
 },
 "nbformat": 4,
 "nbformat_minor": 2
}
