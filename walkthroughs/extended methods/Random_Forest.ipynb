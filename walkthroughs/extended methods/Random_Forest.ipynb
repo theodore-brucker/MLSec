{
 "cells": [
  {
   "cell_type": "markdown",
   "metadata": {},
   "source": [
    "## Random Forest Classifier  \n",
    "\n",
    "Classifying network traffic flows as either benign or a specific attack type using Random Forest on the CIC IDS 2018 dataset\n",
    "\n",
    "Achieves perfect accuracy as is expected when operating on such a rich labeled dataset"
   ]
  },
  {
   "cell_type": "markdown",
   "metadata": {},
   "source": [
    "#### Imports"
   ]
  },
  {
   "cell_type": "code",
   "execution_count": 8,
   "metadata": {},
   "outputs": [],
   "source": [
    "import pandas as pd\n",
    "from sklearn.preprocessing import MinMaxScaler\n",
    "import collections\n",
    "import numpy as np\n",
    "import matplotlib.pyplot as plt\n",
    "import seaborn as sns\n",
    "from sklearn.model_selection import train_test_split\n",
    "from sklearn.ensemble import RandomForestClassifier\n",
    "from sklearn.metrics import accuracy_score, precision_score, recall_score, f1_score, confusion_matrix"
   ]
  },
  {
   "cell_type": "markdown",
   "metadata": {},
   "source": [
    "#### Data Loading"
   ]
  },
  {
   "cell_type": "code",
   "execution_count": 9,
   "metadata": {},
   "outputs": [],
   "source": [
    "# Provide the path to one CSVs from the CICIDS2018 dataset correlating to one day of traffic\n",
    "\n",
    "path_1 = 'C:/Users/theob/Code/COS-475-Project/Dataset/CSE-CIC-IDS2018/Wednesday-14-02-2018_TrafficForML_CICFlowMeter.csv'\n",
    "flows_1 = pd.read_csv(path_1)"
   ]
  },
  {
   "cell_type": "markdown",
   "metadata": {},
   "source": [
    "#### Data Cleaning"
   ]
  },
  {
   "cell_type": "code",
   "execution_count": 10,
   "metadata": {},
   "outputs": [
    {
     "name": "stdout",
     "output_type": "stream",
     "text": [
      "Total number of unique labels: 3\n",
      "Occurrences of each label:\n",
      "Benign: 667626\n",
      "FTP-BruteForce: 193360\n",
      "SSH-Bruteforce: 187589\n"
     ]
    },
    {
     "name": "stderr",
     "output_type": "stream",
     "text": [
      "C:\\Users\\theob\\AppData\\Local\\Temp\\ipykernel_20272\\2650430313.py:20: UserWarning: Boolean Series key will be reindexed to match DataFrame index.\n",
      "  df = df[(numeric_cols.ge(0)).all(axis=1)]\n"
     ]
    },
    {
     "name": "stdout",
     "output_type": "stream",
     "text": [
      "Initial number of columns: 79, final number of columns: 69\n",
      "Initial number of rows: 1048575, final number of rows: 701143\n"
     ]
    }
   ],
   "source": [
    "def clean_dataframe(df):\n",
    "    # Cleans the given DataFrame by:\n",
    "    # - Removing columns that contain only zero values.\n",
    "    # - Removing rows that contain any inf, -inf, or negative values in numeric columns only.\n",
    "\n",
    "    # Initial state reporting\n",
    "    initial_columns_count = df.shape[1]\n",
    "    initial_rows_count = df.shape[0]\n",
    "    \n",
    "    # Step 1: Remove columns that contain only zero values\n",
    "    df = df.loc[:, (df != 0).any(axis=0)]\n",
    "    \n",
    "    # Select only numeric columns for inf, -inf, or negative values removal\n",
    "    numeric_cols = df.select_dtypes(include=[np.number])\n",
    "    \n",
    "    # Step 2: Remove rows with any inf, -inf in numeric columns\n",
    "    df = df[~numeric_cols.isin([np.inf, -np.inf]).any(axis=1)]\n",
    "    \n",
    "    # Remove rows with negative values in numeric columns\n",
    "    df = df[(numeric_cols.ge(0)).all(axis=1)]\n",
    "\n",
    "    # Final state reporting\n",
    "    final_columns_count = df.shape[1]\n",
    "    final_rows_count = df.shape[0]\n",
    "\n",
    "    print(f\"Initial number of columns: {initial_columns_count}, final number of columns: {final_columns_count}\")\n",
    "    print(f\"Initial number of rows: {initial_rows_count}, final number of rows: {final_rows_count}\")\n",
    "\n",
    "    return df\n",
    "\n",
    "def encode_labels(labels):\n",
    "    # Converts a list of labels into integer format where each unique label is assigned a unique integer.\n",
    "    # Additionally, prints the total number of unique labels and the number of occurrences of each label.\n",
    "\n",
    "    # Create a dictionary to map each label to a unique integer\n",
    "    unique_labels = sorted(set(labels))\n",
    "    label_mapping = {label: i for i, label in enumerate(unique_labels)}\n",
    "\n",
    "    # Count occurrences of each label\n",
    "    label_counts = collections.Counter(labels)\n",
    "    \n",
    "    # Print the total number of unique labels and occurrences of each\n",
    "    print(f\"Total number of unique labels: {len(unique_labels)}\")\n",
    "    print(\"Occurrences of each label:\")\n",
    "    for label, count in sorted(label_counts.items(), key=lambda x: label_mapping[x[0]]):\n",
    "        print(f\"{label}: {count}\")\n",
    "\n",
    "    # Apply the mapping to the labels list to create the encoded labels list\n",
    "    encoded_labels = [label_mapping[label] for label in labels]\n",
    "\n",
    "    return encoded_labels\n",
    "\n",
    "# Encode and separate the labels from the features\n",
    "flows_1['Label'] = encode_labels(flows_1['Label'])\n",
    "\n",
    "# Clean the feature space\n",
    "flows_1_reduced = clean_dataframe(flows_1.drop(['Timestamp'], axis=1))"
   ]
  },
  {
   "cell_type": "markdown",
   "metadata": {},
   "source": [
    "#### Separate Labels"
   ]
  },
  {
   "cell_type": "code",
   "execution_count": 11,
   "metadata": {},
   "outputs": [],
   "source": [
    "flow_1_labels = flows_1_reduced['Label']"
   ]
  },
  {
   "cell_type": "markdown",
   "metadata": {},
   "source": [
    "#### Data Scaling"
   ]
  },
  {
   "cell_type": "code",
   "execution_count": 12,
   "metadata": {},
   "outputs": [],
   "source": [
    "def apply_minmax_scaler(dataframe):\n",
    "    # Create an instance of MinMaxScaler\n",
    "    scaler = MinMaxScaler()\n",
    "\n",
    "    # Fit the scaler to the data and transform it\n",
    "    scaled_data = scaler.fit_transform(dataframe)\n",
    "\n",
    "    # Convert the scaled array back to a DataFrame\n",
    "    scaled_dataframe = pd.DataFrame(scaled_data, columns=dataframe.columns)\n",
    "\n",
    "    return scaled_dataframe\n",
    "\n",
    "flows_1_scaled = apply_minmax_scaler(flows_1_reduced)"
   ]
  },
  {
   "cell_type": "markdown",
   "metadata": {},
   "source": [
    "#### Train and Predict"
   ]
  },
  {
   "cell_type": "code",
   "execution_count": 13,
   "metadata": {},
   "outputs": [],
   "source": [
    "# Split the dataset into training and testing sets\n",
    "X_train, X_test, y_train, y_test = train_test_split(flows_1_scaled, flow_1_labels, test_size=0.95, random_state=42)\n",
    "\n",
    "# Initialize the Random Forest classifier\n",
    "rf_classifier = RandomForestClassifier(n_estimators=100, random_state=42)\n",
    "\n",
    "# Train the classifier\n",
    "rf_classifier.fit(X_train, y_train.values.ravel())\n",
    "\n",
    "# Predict on the test data\n",
    "y_pred = rf_classifier.predict(X_test)"
   ]
  },
  {
   "cell_type": "markdown",
   "metadata": {},
   "source": [
    "#### Results"
   ]
  },
  {
   "cell_type": "code",
   "execution_count": 14,
   "metadata": {},
   "outputs": [
    {
     "name": "stdout",
     "output_type": "stream",
     "text": [
      "Accuracy: 100.00%\n",
      "Precision: 1.00\n",
      "Recall: 1.00\n",
      "F1 Score: 1.00\n"
     ]
    },
    {
     "data": {
      "image/png": "[encoded data removed]",
      "text/plain": [
       "<Figure size 1000x800 with 2 Axes>"
      ]
     },
     "metadata": {},
     "output_type": "display_data"
    }
   ],
   "source": [
    "accuracy = accuracy_score(y_test, y_pred)\n",
    "\n",
    "# Setting average='weighted' to account for label imbalance:\n",
    "precision = precision_score(y_test, y_pred, average='weighted')\n",
    "recall = recall_score(y_test, y_pred, average='weighted')\n",
    "f1 = f1_score(y_test, y_pred, average='weighted')\n",
    "\n",
    "# Print the calculated metrics\n",
    "print(f\"Accuracy: {accuracy * 100:.2f}%\")\n",
    "print(f\"Precision: {precision:.2f}\")\n",
    "print(f\"Recall: {recall:.2f}\")\n",
    "print(f\"F1 Score: {f1:.2f}\")\n",
    "\n",
    "# Plotting the confusion matrix\n",
    "conf_matrix = confusion_matrix(y_test, y_pred)\n",
    "plt.figure(figsize=(10, 8))  # Adjust size for better visibility with more classes\n",
    "sns.heatmap(conf_matrix, annot=True, fmt='d', cmap='Greens')  # Greens for visual distinction\n",
    "plt.title('Confusion Matrix')\n",
    "plt.xlabel('Predicted Labels')\n",
    "plt.ylabel('True Labels')\n",
    "plt.show()"
   ]
  }
 ],
 "metadata": {
  "kernelspec": {
   "display_name": "Python 3",
   "language": "python",
   "name": "python3"
  },
  "language_info": {
   "codemirror_mode": {
    "name": "ipython",
    "version": 3
   },
   "file_extension": ".py",
   "mimetype": "text/x-python",
   "name": "python",
   "nbconvert_exporter": "python",
   "pygments_lexer": "ipython3",
   "version": "3.12.2"
  }
 },
 "nbformat": 4,
 "nbformat_minor": 2
}
