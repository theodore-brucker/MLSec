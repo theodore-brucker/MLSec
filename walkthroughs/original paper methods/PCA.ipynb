{
 "cells": [
  {
   "cell_type": "markdown",
   "metadata": {},
   "source": [
    "# Principal Component Analysis\n",
    "\n",
    "Traditional autoencoder with TAMs method for data transformation to fit the model  \n",
    "Also employs early PCA to reduce the feature space  \n",
    "Trains on flows from CIC-IDS2018 dataset"
   ]
  }
 ],
 "metadata": {
  "language_info": {
   "name": "python"
  }
 },
 "nbformat": 4,
 "nbformat_minor": 2
}
