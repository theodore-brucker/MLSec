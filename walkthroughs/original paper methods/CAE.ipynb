{
 "cells": [
  {
   "cell_type": "markdown",
   "metadata": {},
   "source": [
    "# Autoencoder with CNN\n",
    "\n",
    "Current state of the 475 project that creates an Autoencoder with CNN layers\n",
    "Currently on a custom dataset that has packet captures from documented Malware and Benign applications  \n",
    "Trains on sequences of flows from CIC-IDS2018\n",
    "\n",
    "### Preprocess the dataset"
   ]
  },
  {
   "cell_type": "code",
   "execution_count": 1,
   "metadata": {},
   "outputs": [
    {
     "name": "stdout",
     "output_type": "stream",
     "text": [
      "Loading benign data from: C:/Users/theob/Code/COS-475-Project/Dataset/CSE-CIC-IDS2018\\Wednesday-14-02-2018_TrafficForML_CICFlowMeter.csv\n",
      "Loading mixed data from: C:/Users/theob/Code/COS-475-Project/Dataset/CSE-CIC-IDS2018\\Friday-16-02-2018_TrafficForML_CICFlowMeter.csv\n",
      "Saved train loader to C:/Users/theob/Code/COS-475-Project/Dataset/CSE-CIC-IDS2018\\train.pth\n",
      "Saved test loader to C:/Users/theob/Code/COS-475-Project/Dataset/CSE-CIC-IDS2018\\test.pth\n"
     ]
    }
   ],
   "source": [
    "import os\n",
    "import sys\n",
    "import torch\n",
    "\n",
    "current_dir = os.getcwd()\n",
    "parent_dir = os.path.dirname(current_dir)\n",
    "processing = os.path.join(parent_dir, 'processing')\n",
    "sys.path.append(processing)\n",
    "\n",
    "from preprocessing import Preprocess\n",
    "\n",
    "data_dir = os.getenv('FLOWS_DIRECTORY')\n",
    "\n",
    "Preprocess(data_dir, 'flows', 'Wednesday-14-02-2018_TrafficForML_CICFlowMeter.csv', 'Friday-16-02-2018_TrafficForML_CICFlowMeter.csv')"
   ]
  },
  {
   "cell_type": "code",
   "execution_count": null,
   "metadata": {},
   "outputs": [],
   "source": [
    "model_name = \"CAE\"\n",
    "model = torch.load(f'{data_dir}{model_name}.pth')\n",
    "\n",
    "train_loader = torch.load(f'{data_dir}/train.pth')\n",
    "test_loader = torch.load(f'{data_dir}/test.pth')\n"
   ]
  },
  {
   "cell_type": "markdown",
   "metadata": {},
   "source": [
    "### Evaluate"
   ]
  },
  {
   "cell_type": "code",
   "execution_count": null,
   "metadata": {},
   "outputs": [],
   "source": [
    "from eval.evaluate import AnomalyDetection\n",
    "print(\"Import successful!\")"
   ]
  },
  {
   "cell_type": "code",
   "execution_count": null,
   "metadata": {},
   "outputs": [],
   "source": [
    "# Create an instance of the AnomalyDetector class\n",
    "detector = AnomalyDetection(model, test_loader, device)\n",
    "\n",
    "# Run the analysis\n",
    "detector.run_analysis()"
   ]
  },
  {
   "cell_type": "markdown",
   "metadata": {},
   "source": [
    "### Visualize sample inputs and reconstructed output side by side"
   ]
  },
  {
   "cell_type": "code",
   "execution_count": null,
   "metadata": {},
   "outputs": [],
   "source": [
    "from visualization.visualize_CIC_CAE import visualize_reconstructions\n",
    "\n",
    "visualize_reconstructions(model, test_loader, device='cuda', num_samples=5)"
   ]
  }
 ],
 "metadata": {
  "kernelspec": {
   "display_name": "Python 3",
   "language": "python",
   "name": "python3"
  },
  "language_info": {
   "codemirror_mode": {
    "name": "ipython",
    "version": 3
   },
   "file_extension": ".py",
   "mimetype": "text/x-python",
   "name": "python",
   "nbconvert_exporter": "python",
   "pygments_lexer": "ipython3",
   "version": "3.11.1"
  }
 },
 "nbformat": 4,
 "nbformat_minor": 2
}
