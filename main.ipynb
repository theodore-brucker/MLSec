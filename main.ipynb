{
 "cells": [
  {
   "cell_type": "code",
   "execution_count": 1,
   "metadata": {},
   "outputs": [
    {
     "name": "stdout",
     "output_type": "stream",
     "text": [
      "C:/Users/theob/Code/COS-475-Project/Dataset/CSE-CIC-IDS2018\\Wednesday-14-02-2018_TrafficForML_CICFlowMeter.csv\n",
      "C:/Users/theob/Code/COS-475-Project/Dataset/CSE-CIC-IDS2018\\Friday-16-02-2018_TrafficForML_CICFlowMeter.csv\n",
      "Total number of unique labels: 4\n",
      "Occurrences of each label:\n",
      "Benign: 381\n",
      "DoS attacks-Hulk: 8300\n",
      "DoS attacks-SlowHTTPTest: 91434\n",
      "FTP-BruteForce: 99885\n",
      "Initial number of columns: 76, final number of columns: 65\n",
      "Initial number of rows: 200000, final number of rows: 195668\n",
      "Input batch shape from DataLoader: torch.Size([32, 1, 64, 64])\n",
      "Labels batch shape from DataLoader: torch.Size([32])\n",
      "Saved dataloaders to C:/Users/theob/Code/COS-475-Project/Dataset/CSE-CIC-IDS2018\n"
     ]
    }
   ],
   "source": [
    "# Process data if necessary\n",
    "from processing.CSE_CIC_processing import process_CIC_CAE\n",
    "\n",
    "process_CIC_CAE()"
   ]
  },
  {
   "cell_type": "code",
   "execution_count": 1,
   "metadata": {},
   "outputs": [
    {
     "name": "stdout",
     "output_type": "stream",
     "text": [
      "C:/Users/theob/Code/COS-475-Project/Dataset/CSE-CIC-IDS2018\\Wednesday-14-02-2018_TrafficForML_CICFlowMeter.csv\n",
      "C:/Users/theob/Code/COS-475-Project/Dataset/CSE-CIC-IDS2018\\Friday-16-02-2018_TrafficForML_CICFlowMeter.csv\n",
      "Total number of unique labels: 4\n",
      "Occurrences of each label:\n",
      "Benign: 381\n",
      "DoS attacks-Hulk: 8300\n",
      "DoS attacks-SlowHTTPTest: 91434\n",
      "FTP-BruteForce: 99885\n",
      "Initial number of columns: 76, final number of columns: 65\n",
      "Initial number of rows: 200000, final number of rows: 195668\n",
      "Input batch shape from DataLoader: torch.Size([32, 1, 64, 64])\n",
      "Labels batch shape from DataLoader: torch.Size([32])\n"
     ]
    }
   ],
   "source": [
    "import torch \n",
    "import os\n",
    "\n",
    "data_dir = os.getenv('DATA_DIRECTORY')\n",
    "train_loader_path = os.path.join(data_dir, 'train.pth')\n",
    "test_loader_path = os.path.join(data_dir, 'test.pth')\n",
    "\n",
    "train_loader = torch.load(train_loader_path)\n",
    "test_loader = torch.load(test_loader_path)\n",
    "\n"
   ]
  },
  {
   "cell_type": "code",
   "execution_count": 2,
   "metadata": {},
   "outputs": [
    {
     "name": "stdout",
     "output_type": "stream",
     "text": [
      "cuda starting:  True\n"
     ]
    },
    {
     "name": "stderr",
     "output_type": "stream",
     "text": [
      "c:\\Users\\theob\\AppData\\Local\\Programs\\Python\\Python311\\Lib\\site-packages\\tqdm\\auto.py:21: TqdmWarning: IProgress not found. Please update jupyter and ipywidgets. See https://ipywidgets.readthedocs.io/en/stable/user_install.html\n",
      "  from .autonotebook import tqdm as notebook_tqdm\n"
     ]
    },
    {
     "name": "stdout",
     "output_type": "stream",
     "text": [
      "Epoch 1/5, Loss: 0.0011\n",
      "Epoch 2/5, Loss: 0.0006\n",
      "Epoch 3/5, Loss: 0.0006\n",
      "Epoch 4/5, Loss: 0.0006\n",
      "Epoch 5/5, Loss: 0.0006\n",
      "Training complete: saved to Checkpoints/CAE.pth\n"
     ]
    }
   ],
   "source": [
    "from training.trainer import train_CAE\n",
    "# Train convolutional autoencoder on CSE-CIC datast\n",
    "\n",
    "train_CAE(train_loader, test_loader)"
   ]
  }
 ],
 "metadata": {
  "kernelspec": {
   "display_name": "Python 3",
   "language": "python",
   "name": "python3"
  },
  "language_info": {
   "codemirror_mode": {
    "name": "ipython",
    "version": 3
   },
   "file_extension": ".py",
   "mimetype": "text/x-python",
   "name": "python",
   "nbconvert_exporter": "python",
   "pygments_lexer": "ipython3",
   "version": "3.11.1"
  }
 },
 "nbformat": 4,
 "nbformat_minor": 2
}
